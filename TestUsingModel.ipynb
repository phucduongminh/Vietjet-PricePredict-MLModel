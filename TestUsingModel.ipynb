{
 "cells": [
  {
   "cell_type": "code",
   "execution_count": 15,
   "id": "fb453126-8668-427f-8449-24f0877ab6e1",
   "metadata": {},
   "outputs": [
    {
     "name": "stdout",
     "output_type": "stream",
     "text": [
      "Predicted f_price: [  98500.          893000.          143589.04365079 1338000.\n",
      "  278220.        ]\n",
      "Predicted fees: [650798.         703000.         650174.49960317 744800.\n",
      " 653128.        ]\n"
     ]
    }
   ],
   "source": [
    "import pandas as pd\n",
    "import joblib\n",
    "\n",
    "# tai mo hinh da huan luyen\n",
    "rf_f_price = joblib.load('rf_f_price_model.pkl')\n",
    "rf_fees = joblib.load('rf_fees_model.pkl')\n",
    "\n",
    "# mock data\n",
    "data_new = pd.DataFrame({\n",
    "    'hour_from': [8.5, 10.0, 12.5, 14.0, 16.0],\n",
    "    'day_of_week': [1, 2, 3, 4, 5],             # (1: Monday, 2: Tuesday, ...)\n",
    "    'month_from': [1, 2, 3, 4, 5],      \n",
    "    'ticket_type': [0, 1, 0, 1, 0],             # (0: Eco, 1: SkyBoss)\n",
    "    'distance': [1000, 1500, 2000, 1200, 1800]   # khoang cach san bay\n",
    "})\n",
    "\n",
    "required_columns = ['hour_from', 'day_of_week', 'month_from', 'ticket_type', 'distance']\n",
    "data_new = data_new[required_columns]\n",
    "\n",
    "# predict\n",
    "y_pred_f_price_new = rf_f_price.predict(data_new)\n",
    "y_pred_fees_new = rf_fees.predict(data_new)\n",
    "\n",
    "#\n",
    "print(\"Predicted f_price:\", y_pred_f_price_new)\n",
    "print(\"Predicted fees:\", y_pred_fees_new)"
   ]
  },
  {
   "cell_type": "code",
   "execution_count": 16,
   "id": "9ea85390-27a0-4428-8219-a7cc714aef00",
   "metadata": {},
   "outputs": [
    {
     "name": "stdout",
     "output_type": "stream",
     "text": [
      "Predicted f_price: [  98500.          920000.          143589.04365079 1338000.\n",
      "  278220.        ]\n",
      "Predicted fees: [650798.         703600.         650174.49960317 744800.\n",
      " 653128.        ]\n"
     ]
    }
   ],
   "source": [
    "data_mock = pd.DataFrame({\n",
    "    'hour_from': [8.5, 14.0, 12.5, 14.0, 16.0],\n",
    "    'day_of_week': [1, 4, 3, 4, 5],             # (1: Monday, 2: Tuesday, ...)\n",
    "    'month_from': [1, 4, 3, 4, 5],      \n",
    "    'ticket_type': [0, 1, 0, 1, 0],             # (0: Eco, 1: SkyBoss)\n",
    "    'distance': [1000, 1500, 2000, 1200, 1800]   # khoang cach san bay\n",
    "})\n",
    "\n",
    "data_mock = data_mock[required_columns]\n",
    "\n",
    "# predict\n",
    "y_pred_f_price_mock = rf_f_price.predict(data_mock)\n",
    "y_pred_fees_mock = rf_fees.predict(data_mock)\n",
    "\n",
    "#\n",
    "print(\"Predicted f_price:\", y_pred_f_price_mock)\n",
    "print(\"Predicted fees:\", y_pred_fees_mock)"
   ]
  },
  {
   "cell_type": "code",
   "execution_count": 17,
   "id": "81dc2d14-2025-4038-9d50-1adcef3ecbb5",
   "metadata": {},
   "outputs": [
    {
     "name": "stdout",
     "output_type": "stream",
     "text": [
      "Predicted f_price: [ 98500.         920000.         143589.04365079 920000.\n",
      " 278220.        ]\n",
      "Predicted fees: [650798.         703600.         650174.49960317 703600.\n",
      " 653128.        ]\n"
     ]
    }
   ],
   "source": [
    "data_mock1 = pd.DataFrame({\n",
    "    'hour_from': [8.5, 14.0, 12.5, 14.0, 16.0],\n",
    "    'day_of_week': [1, 4, 3, 4, 5],             # (1: Monday, 2: Tuesday, ...)\n",
    "    'month_from': [1, 4, 3, 4, 5],      \n",
    "    'ticket_type': [0, 1, 0, 1, 0],             # (0: Eco, 1: SkyBoss)\n",
    "    'distance': [1000, 1500, 2000, 1600, 1800]   # khoang cach san bay\n",
    "})\n",
    "\n",
    "data_mock1 = data_mock1[required_columns]\n",
    "\n",
    "# predict\n",
    "y_pred_f_price_mock1 = rf_f_price.predict(data_mock1)\n",
    "y_pred_fees_mock1 = rf_fees.predict(data_mock1)\n",
    "\n",
    "#\n",
    "print(\"Predicted f_price:\", y_pred_f_price_mock1)\n",
    "print(\"Predicted fees:\", y_pred_fees_mock1)"
   ]
  },
  {
   "cell_type": "code",
   "execution_count": 18,
   "id": "698ceb3e-755f-4f95-9d73-8b4299c18776",
   "metadata": {},
   "outputs": [
    {
     "name": "stdout",
     "output_type": "stream",
     "text": [
      "Predicted f_price: [ 98500.         920000.         143589.04365079 920000.\n",
      " 278220.        ]\n",
      "Predicted fees: [650798.         703600.         650174.49960317 703600.\n",
      " 653128.        ]\n"
     ]
    }
   ],
   "source": [
    "data_mock2 = pd.DataFrame({\n",
    "    'hour_from': [8.5, 14.0, 12.5, 14.0, 16.0],\n",
    "    'day_of_week': [1, 4, 3, 4, 5],             # (1: Monday, 2: Tuesday, ...)\n",
    "    'month_from': [1, 4, 3, 4, 5],      \n",
    "    'ticket_type': [0, 1, 0, 1, 0],             # (0: Eco, 1: SkyBoss)\n",
    "    'distance': [1000, 1500, 2000, 2000, 1800]   # khoang cach san bay\n",
    "})\n",
    "\n",
    "data_mock2 = data_mock2[required_columns]\n",
    "\n",
    "# predict\n",
    "y_pred_f_price_mock2 = rf_f_price.predict(data_mock2)\n",
    "y_pred_fees_mock2 = rf_fees.predict(data_mock2)\n",
    "\n",
    "#\n",
    "print(\"Predicted f_price:\", y_pred_f_price_mock2)\n",
    "print(\"Predicted fees:\", y_pred_fees_mock2)"
   ]
  },
  {
   "cell_type": "code",
   "execution_count": null,
   "id": "db9d2d1c-d655-424e-a108-074596ef8686",
   "metadata": {},
   "outputs": [],
   "source": []
  }
 ],
 "metadata": {
  "kernelspec": {
   "display_name": "Python 3 (ipykernel)",
   "language": "python",
   "name": "python3"
  },
  "language_info": {
   "codemirror_mode": {
    "name": "ipython",
    "version": 3
   },
   "file_extension": ".py",
   "mimetype": "text/x-python",
   "name": "python",
   "nbconvert_exporter": "python",
   "pygments_lexer": "ipython3",
   "version": "3.11.4"
  }
 },
 "nbformat": 4,
 "nbformat_minor": 5
}
