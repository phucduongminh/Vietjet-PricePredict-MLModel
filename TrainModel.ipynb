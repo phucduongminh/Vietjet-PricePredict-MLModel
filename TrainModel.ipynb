{
 "cells": [
  {
   "cell_type": "code",
   "execution_count": 1,
   "id": "8db7aa83-8a57-475a-ad8c-49838805b5a2",
   "metadata": {},
   "outputs": [
    {
     "name": "stdout",
     "output_type": "stream",
     "text": [
      "              id code code_name f_code         f_time_from  \\\n",
      "0  vj16169846100   vj   Vietjet  VJ122 2021-04-01 04:50:00   \n",
      "1  vj16169846231   vj   Vietjet  VJ176 2021-04-01 05:25:00   \n",
      "2  vj16169846302   vj   Vietjet  VJ120 2021-04-01 06:00:00   \n",
      "3  vj16169846383   vj   Vietjet  VJ132 2021-04-01 06:05:00   \n",
      "4  vj16169846454   vj   Vietjet  VJ134 2021-04-01 07:00:00   \n",
      "\n",
      "            f_time_to  f_price    fees  total_price    from  \\\n",
      "0 2021-04-01 07:10:00   199000  650900       849900  TP HCM   \n",
      "1 2021-04-01 07:35:00   199000  650900       849900  TP HCM   \n",
      "2 2021-04-01 08:10:00   199000  650900       849900  TP HCM   \n",
      "3 2021-04-01 08:05:00   199000  650900       849900  TP HCM   \n",
      "4 2021-04-01 09:10:00   409000  661900      1070900  TP HCM   \n",
      "\n",
      "         airport_from      to     airport_to type airport_code_from  \\\n",
      "0  Tân Sơn Nhất (SGN)  Hà Nội  Nội Bài (HAN)  Eco               SGN   \n",
      "1  Tân Sơn Nhất (SGN)  Hà Nội  Nội Bài (HAN)  Eco               SGN   \n",
      "2  Tân Sơn Nhất (SGN)  Hà Nội  Nội Bài (HAN)  Eco               SGN   \n",
      "3  Tân Sơn Nhất (SGN)  Hà Nội  Nội Bài (HAN)  Eco               SGN   \n",
      "4  Tân Sơn Nhất (SGN)  Hà Nội  Nội Bài (HAN)  Eco               SGN   \n",
      "\n",
      "  airport_code_to     distance  ticket_type  \n",
      "0             HAN  1154.514306            0  \n",
      "1             HAN  1154.514306            0  \n",
      "2             HAN  1154.514306            0  \n",
      "3             HAN  1154.514306            0  \n",
      "4             HAN  1154.514306            0  \n",
      "      hour_from  day_of_week  month_from  ticket_type     distance\n",
      "5239         18            6           4            0  1154.514306\n",
      "1905          8            4           4            0  1232.342265\n",
      "5026         15            5           4            0  1154.514306\n",
      "6696          7            5           5            0  1238.093082\n",
      "1049         11            0           4            0   849.701517\n"
     ]
    }
   ],
   "source": [
    "import pandas as pd\n",
    "from sklearn.model_selection import train_test_split\n",
    "from sklearn.ensemble import RandomForestRegressor\n",
    "from sklearn.metrics import mean_absolute_error, mean_squared_error\n",
    "\n",
    "# mo file data da clean\n",
    "data = pd.read_excel('vietjet_flight_data.xlsx')\n",
    "\n",
    "# kiem tra\n",
    "print(data.head())\n",
    "\n",
    "# chuyen thanh cac features thoi gian\n",
    "data['hour_from'] = data['f_time_from'].dt.hour\n",
    "data['day_of_week'] = data['f_time_from'].dt.dayofweek  # 0: Monday, 6: Sunday\n",
    "data['month_from'] = data['f_time_from'].dt.month\n",
    "\n",
    "features = ['hour_from', 'day_of_week', 'month_from', 'ticket_type', 'distance']\n",
    "target_f_price = 'f_price'\n",
    "target_fees = 'fees'\n",
    "\n",
    "# tach du lieu thanh x features va y target\n",
    "X = data[features]\n",
    "y_f_price = data[target_f_price]\n",
    "y_fees = data[target_fees]\n",
    "\n",
    "# chia thanh tap huan luyen va kiem tra\n",
    "X_train, X_test, y_train_f_price, y_test_f_price = train_test_split(X, y_f_price, test_size=0.2, random_state=42)\n",
    "X_train, X_test, y_train_fees, y_test_fees = train_test_split(X, y_fees, test_size=0.2, random_state=42)\n",
    "\n",
    "print(X_train.head())"
   ]
  },
  {
   "cell_type": "code",
   "execution_count": 2,
   "id": "2ece354b-c241-4e45-86cc-da5a07bae961",
   "metadata": {},
   "outputs": [
    {
     "name": "stdout",
     "output_type": "stream",
     "text": [
      "Mean Absolute Error for f_price: 180685.42\n",
      "Mean Squared Error for f_price: 118410330213.15\n",
      "Mean Absolute Error for fees: 13036.97\n",
      "Mean Squared Error for fees: 876000703.19\n"
     ]
    }
   ],
   "source": [
    "# Random Forest cho 'f_price'\n",
    "rf_f_price = RandomForestRegressor(n_estimators=100, random_state=42)\n",
    "rf_f_price.fit(X_train, y_train_f_price)\n",
    "\n",
    "# du doan gia ve\n",
    "y_pred_f_price = rf_f_price.predict(X_test)\n",
    "\n",
    "# danh gia mo hinh cho f_price\n",
    "mae_f_price = mean_absolute_error(y_test_f_price, y_pred_f_price)\n",
    "mse_f_price = mean_squared_error(y_test_f_price, y_pred_f_price)\n",
    "\n",
    "print(f'Mean Absolute Error for f_price: {mae_f_price:.2f}')\n",
    "print(f'Mean Squared Error for f_price: {mse_f_price:.2f}')\n",
    "\n",
    "# Random Forest cho 'fees'\n",
    "rf_fees = RandomForestRegressor(n_estimators=100, random_state=42)\n",
    "rf_fees.fit(X_train, y_train_fees)\n",
    "\n",
    "# du doan phi\n",
    "y_pred_fees = rf_fees.predict(X_test)\n",
    "\n",
    "# danh gia mo hinh cho fees\n",
    "mae_fees = mean_absolute_error(y_test_fees, y_pred_fees)\n",
    "mse_fees = mean_squared_error(y_test_fees, y_pred_fees)\n",
    "\n",
    "print(f'Mean Absolute Error for fees: {mae_fees:.2f}')\n",
    "print(f'Mean Squared Error for fees: {mse_fees:.2f}')"
   ]
  },
  {
   "cell_type": "code",
   "execution_count": 3,
   "id": "91b9558d-dc33-465f-93a3-7b4a220a858d",
   "metadata": {},
   "outputs": [
    {
     "data": {
      "text/plain": [
       "['rf_fees_model.pkl']"
      ]
     },
     "execution_count": 3,
     "metadata": {},
     "output_type": "execute_result"
    }
   ],
   "source": [
    "import joblib\n",
    "\n",
    "# luu mo hinh\n",
    "joblib.dump(rf_f_price, 'rf_f_price_model.pkl')\n",
    "joblib.dump(rf_fees, 'rf_fees_model.pkl')"
   ]
  }
 ],
 "metadata": {
  "kernelspec": {
   "display_name": "Python 3 (ipykernel)",
   "language": "python",
   "name": "python3"
  },
  "language_info": {
   "codemirror_mode": {
    "name": "ipython",
    "version": 3
   },
   "file_extension": ".py",
   "mimetype": "text/x-python",
   "name": "python",
   "nbconvert_exporter": "python",
   "pygments_lexer": "ipython3",
   "version": "3.11.4"
  }
 },
 "nbformat": 4,
 "nbformat_minor": 5
}
