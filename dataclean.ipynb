{
 "cells": [
  {
   "cell_type": "code",
   "execution_count": 12,
   "id": "cbcf3fbd-188b-4bee-9f44-f272e29b7212",
   "metadata": {},
   "outputs": [
    {
     "name": "stdout",
     "output_type": "stream",
     "text": [
      "               id code         code_name f_code          f_time_from  \\\n",
      "0   vj16169846100   vj           Vietjet  VJ122  04:50:00 01/04/2021   \n",
      "1  vna16169846200  vna  Vietnam Airlines  VN250  05:00:00 01/04/2021   \n",
      "2   vj16169846231   vj           Vietjet  VJ176  05:25:00 01/04/2021   \n",
      "3   qh16169846270   qh    Bamboo Airways  QH202  05:45:00 01/04/2021   \n",
      "4   vj16169846302   vj           Vietjet  VJ120  06:00:00 01/04/2021   \n",
      "\n",
      "             f_time_to  f_price    fees  total_price    from  \\\n",
      "0  07:10:00 01/04/2021   199000  650900       849900  TP HCM   \n",
      "1  07:10:00 01/04/2021   299000  670000       969000  TP HCM   \n",
      "2  07:35:00 01/04/2021   199000  650900       849900  TP HCM   \n",
      "3  07:55:00 01/04/2021   399000  672000      1071000  TP HCM   \n",
      "4  08:10:00 01/04/2021   199000  650900       849900  TP HCM   \n",
      "\n",
      "         airport_from      to     airport_to            type  \n",
      "0  Tân Sơn Nhất (SGN)  Hà Nội  Nội Bài (HAN)             Eco  \n",
      "1  Tân Sơn Nhất (SGN)  Hà Nội  Nội Bài (HAN)  Economy (EL)-P  \n",
      "2  Tân Sơn Nhất (SGN)  Hà Nội  Nội Bài (HAN)             Eco  \n",
      "3  Tân Sơn Nhất (SGN)  Hà Nội  Nội Bài (HAN)       Eco Saver  \n",
      "4  Tân Sơn Nhất (SGN)  Hà Nội  Nội Bài (HAN)             Eco  \n"
     ]
    }
   ],
   "source": [
    "import pandas as pd\n",
    "\n",
    "# Đọc dữ liệu từ file Excel\n",
    "data = pd.read_excel('flight.xlsx')\n",
    "\n",
    "# Kiểm tra\n",
    "print(data.head())"
   ]
  },
  {
   "cell_type": "code",
   "execution_count": 13,
   "id": "c4bc0488-4fe6-4532-85b6-9da759adc5a1",
   "metadata": {},
   "outputs": [],
   "source": [
    "data_cleaned = data.dropna(subset=['f_price'])"
   ]
  },
  {
   "cell_type": "code",
   "execution_count": 14,
   "id": "8069e01b-3797-46e6-9ad5-b907f0caa226",
   "metadata": {},
   "outputs": [],
   "source": [
    "data['fees'] = data['fees'].fillna(data['fees'].mean())"
   ]
  },
  {
   "cell_type": "code",
   "execution_count": 15,
   "id": "7cac090a-65bb-45b0-a6f0-1919b08c95b3",
   "metadata": {},
   "outputs": [],
   "source": [
    "data_cleaned = data_cleaned[data_cleaned['f_price'] > 0]"
   ]
  },
  {
   "cell_type": "code",
   "execution_count": 16,
   "id": "efd8515d-4f3f-4cc4-95d4-08ee8bfe16d3",
   "metadata": {},
   "outputs": [
    {
     "name": "stdout",
     "output_type": "stream",
     "text": [
      "               id code         code_name f_code         f_time_from  \\\n",
      "0   vj16169846100   vj           Vietjet  VJ122 2021-04-01 04:50:00   \n",
      "1  vna16169846200  vna  Vietnam Airlines  VN250 2021-04-01 05:00:00   \n",
      "2   vj16169846231   vj           Vietjet  VJ176 2021-04-01 05:25:00   \n",
      "3   qh16169846270   qh    Bamboo Airways  QH202 2021-04-01 05:45:00   \n",
      "4   vj16169846302   vj           Vietjet  VJ120 2021-04-01 06:00:00   \n",
      "\n",
      "            f_time_to  f_price    fees  total_price    from  \\\n",
      "0 2021-04-01 07:10:00   199000  650900       849900  TP HCM   \n",
      "1 2021-04-01 07:10:00   299000  670000       969000  TP HCM   \n",
      "2 2021-04-01 07:35:00   199000  650900       849900  TP HCM   \n",
      "3 2021-04-01 07:55:00   399000  672000      1071000  TP HCM   \n",
      "4 2021-04-01 08:10:00   199000  650900       849900  TP HCM   \n",
      "\n",
      "         airport_from      to     airport_to            type  \n",
      "0  Tân Sơn Nhất (SGN)  Hà Nội  Nội Bài (HAN)             Eco  \n",
      "1  Tân Sơn Nhất (SGN)  Hà Nội  Nội Bài (HAN)  Economy (EL)-P  \n",
      "2  Tân Sơn Nhất (SGN)  Hà Nội  Nội Bài (HAN)             Eco  \n",
      "3  Tân Sơn Nhất (SGN)  Hà Nội  Nội Bài (HAN)       Eco Saver  \n",
      "4  Tân Sơn Nhất (SGN)  Hà Nội  Nội Bài (HAN)             Eco  \n"
     ]
    }
   ],
   "source": [
    "data_cleaned['f_time_from'] = pd.to_datetime(data_cleaned['f_time_from'], format='%H:%M:%S %d/%m/%Y')\n",
    "data_cleaned['f_time_to'] = pd.to_datetime(data_cleaned['f_time_to'], format='%H:%M:%S %d/%m/%Y')\n",
    "print(data_cleaned.head())"
   ]
  },
  {
   "cell_type": "code",
   "execution_count": 17,
   "id": "4bc5d747-a936-478b-9e31-d71059461b4c",
   "metadata": {},
   "outputs": [],
   "source": [
    "data_cleaned['hour_from'] = data_cleaned['f_time_from'].dt.hour\n",
    "data_cleaned['day_of_week'] = data_cleaned['f_time_from'].dt.dayofweek  # 0: Monday, 6: Sunday\n",
    "data_cleaned['month_from'] = data_cleaned['f_time_from'].dt.month"
   ]
  },
  {
   "cell_type": "code",
   "execution_count": 18,
   "id": "f7a8d451-6343-4e19-a97d-ecbe4052c98e",
   "metadata": {},
   "outputs": [],
   "source": [
    "# Chuẩn hóa dữ liệu\n",
    "from sklearn.preprocessing import StandardScaler\n",
    "\n",
    "scaler = StandardScaler()\n",
    "data_cleaned[['f_price', 'fees', 'total_price']] = scaler.fit_transform(data_cleaned[['f_price', 'fees', 'total_price']])"
   ]
  },
  {
   "cell_type": "code",
   "execution_count": 19,
   "id": "fe7d0a61-231f-4b5e-b9ed-2220763544c3",
   "metadata": {},
   "outputs": [
    {
     "name": "stdout",
     "output_type": "stream",
     "text": [
      "              id code code_name f_code         f_time_from  \\\n",
      "0  vj16169846100   vj   Vietjet  VJ122 2021-04-01 04:50:00   \n",
      "2  vj16169846231   vj   Vietjet  VJ176 2021-04-01 05:25:00   \n",
      "4  vj16169846302   vj   Vietjet  VJ120 2021-04-01 06:00:00   \n",
      "6  vj16169846383   vj   Vietjet  VJ132 2021-04-01 06:05:00   \n",
      "8  vj16169846454   vj   Vietjet  VJ134 2021-04-01 07:00:00   \n",
      "\n",
      "            f_time_to   f_price      fees  total_price    from  \\\n",
      "0 2021-04-01 07:10:00 -0.358594 -0.470593    -0.368605  TP HCM   \n",
      "2 2021-04-01 07:35:00 -0.358594 -0.470593    -0.368605  TP HCM   \n",
      "4 2021-04-01 08:10:00 -0.358594 -0.470593    -0.368605  TP HCM   \n",
      "6 2021-04-01 08:05:00 -0.358594 -0.470593    -0.368605  TP HCM   \n",
      "8 2021-04-01 09:10:00 -0.004716 -0.261642    -0.026284  TP HCM   \n",
      "\n",
      "         airport_from      to     airport_to type  hour_from  day_of_week  \\\n",
      "0  Tân Sơn Nhất (SGN)  Hà Nội  Nội Bài (HAN)  Eco          4            3   \n",
      "2  Tân Sơn Nhất (SGN)  Hà Nội  Nội Bài (HAN)  Eco          5            3   \n",
      "4  Tân Sơn Nhất (SGN)  Hà Nội  Nội Bài (HAN)  Eco          6            3   \n",
      "6  Tân Sơn Nhất (SGN)  Hà Nội  Nội Bài (HAN)  Eco          6            3   \n",
      "8  Tân Sơn Nhất (SGN)  Hà Nội  Nội Bài (HAN)  Eco          7            3   \n",
      "\n",
      "   month_from  \n",
      "0           4  \n",
      "2           4  \n",
      "4           4  \n",
      "6           4  \n",
      "8           4  \n"
     ]
    }
   ],
   "source": [
    "vietjet_data = data_cleaned[data_cleaned['code_name'] == 'Vietjet']\n",
    "\n",
    "# Kiểm tra\n",
    "print(vietjet_data.head())"
   ]
  },
  {
   "cell_type": "code",
   "execution_count": 20,
   "id": "7a4f7d8b-b6d0-4ce8-83b6-47e7623ed12a",
   "metadata": {},
   "outputs": [],
   "source": [
    "vietjet_data.to_excel('vietjet_flight_data.xlsx', index=False)"
   ]
  }
 ],
 "metadata": {
  "kernelspec": {
   "display_name": "Python 3 (ipykernel)",
   "language": "python",
   "name": "python3"
  },
  "language_info": {
   "codemirror_mode": {
    "name": "ipython",
    "version": 3
   },
   "file_extension": ".py",
   "mimetype": "text/x-python",
   "name": "python",
   "nbconvert_exporter": "python",
   "pygments_lexer": "ipython3",
   "version": "3.11.4"
  }
 },
 "nbformat": 4,
 "nbformat_minor": 5
}
