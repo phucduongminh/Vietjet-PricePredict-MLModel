{
 "cells": [
  {
   "cell_type": "code",
   "execution_count": 3,
   "id": "61d17612-d14c-4180-8da1-82f91854c2ef",
   "metadata": {},
   "outputs": [
    {
     "name": "stdout",
     "output_type": "stream",
     "text": [
      "               id code         code_name f_code          f_time_from  \\\n",
      "0   vj16169846100   vj           Vietjet  VJ122  04:50:00 01/04/2021   \n",
      "1  vna16169846200  vna  Vietnam Airlines  VN250  05:00:00 01/04/2021   \n",
      "2   vj16169846231   vj           Vietjet  VJ176  05:25:00 01/04/2021   \n",
      "3   qh16169846270   qh    Bamboo Airways  QH202  05:45:00 01/04/2021   \n",
      "4   vj16169846302   vj           Vietjet  VJ120  06:00:00 01/04/2021   \n",
      "\n",
      "             f_time_to  f_price    fees  total_price    from  \\\n",
      "0  07:10:00 01/04/2021   199000  650900       849900  TP HCM   \n",
      "1  07:10:00 01/04/2021   299000  670000       969000  TP HCM   \n",
      "2  07:35:00 01/04/2021   199000  650900       849900  TP HCM   \n",
      "3  07:55:00 01/04/2021   399000  672000      1071000  TP HCM   \n",
      "4  08:10:00 01/04/2021   199000  650900       849900  TP HCM   \n",
      "\n",
      "         airport_from      to     airport_to            type airport_code_from  \n",
      "0  Tân Sơn Nhất (SGN)  Hà Nội  Nội Bài (HAN)             Eco               SGN  \n",
      "1  Tân Sơn Nhất (SGN)  Hà Nội  Nội Bài (HAN)  Economy (EL)-P               SGN  \n",
      "2  Tân Sơn Nhất (SGN)  Hà Nội  Nội Bài (HAN)             Eco               SGN  \n",
      "3  Tân Sơn Nhất (SGN)  Hà Nội  Nội Bài (HAN)       Eco Saver               SGN  \n",
      "4  Tân Sơn Nhất (SGN)  Hà Nội  Nội Bài (HAN)             Eco               SGN  \n"
     ]
    }
   ],
   "source": [
    "import pandas as pd\n",
    "import re\n",
    "\n",
    "# Đọc dữ liệu từ file Excel\n",
    "data = pd.read_excel('flight.xlsx')\n",
    "\n",
    "# Hàm trích xuất mã sân bay từ tên sân bay\n",
    "def extract_airport_code(airport_name):\n",
    "    # Sử dụng biểu thức chính quy để lấy mã sân bay\n",
    "    match = re.search(r'\\((.*?)\\)', airport_name)\n",
    "    if match:\n",
    "        return match.group(1)  # Trả về mã sân bay\n",
    "    return None\n",
    "\n",
    "# Áp dụng hàm vào cột airport_from để trích xuất mã sân bay\n",
    "data['airport_code_from'] = data['airport_from'].apply(extract_airport_code)\n",
    "\n",
    "print(data.head())"
   ]
  },
  {
   "cell_type": "code",
   "execution_count": 4,
   "id": "04893d56-5c54-4276-9943-20dff6e9230b",
   "metadata": {},
   "outputs": [],
   "source": [
    "data['airport_code_to'] = data['airport_to'].apply(extract_airport_code)"
   ]
  },
  {
   "cell_type": "code",
   "execution_count": 5,
   "id": "bcefbadb-db7f-4e69-835b-d0977fca9a97",
   "metadata": {},
   "outputs": [
    {
     "name": "stdout",
     "output_type": "stream",
     "text": [
      "      airport_to airport_code_to\n",
      "0  Nội Bài (HAN)             HAN\n",
      "1  Nội Bài (HAN)             HAN\n",
      "2  Nội Bài (HAN)             HAN\n",
      "3  Nội Bài (HAN)             HAN\n",
      "4  Nội Bài (HAN)             HAN\n"
     ]
    }
   ],
   "source": [
    "print(data[['airport_to', 'airport_code_to']].head())"
   ]
  },
  {
   "cell_type": "code",
   "execution_count": 7,
   "id": "dbf3f70a-f47a-4a96-965b-087ac348c89e",
   "metadata": {},
   "outputs": [
    {
     "name": "stdout",
     "output_type": "stream",
     "text": [
      "Khoảng cách giữa Tân Sơn Nhất (SGN) và Nội Bài (HAN) là 1154.51 km\n"
     ]
    }
   ],
   "source": [
    "from geopy.geocoders import Nominatim\n",
    "from geopy.distance import geodesic\n",
    "\n",
    "# Hàm tra cứu tọa độ sân bay từ mã sân bay\n",
    "def get_airport_coordinates(airport_code):\n",
    "    geolocator = Nominatim(user_agent=\"airport_distance_calculator\")\n",
    "    location = geolocator.geocode(f\"{airport_code} airport\")\n",
    "    if location:\n",
    "        return (location.latitude, location.longitude)\n",
    "    return None\n",
    "\n",
    "# Lấy tọa độ của sân bay SGN (Tân Sơn Nhất) và HAN (Nội Bài)\n",
    "coords_sgn = get_airport_coordinates(\"SGN\")\n",
    "coords_han = get_airport_coordinates(\"HAN\")\n",
    "\n",
    "# Kiểm tra và tính khoảng cách nếu có tọa độ\n",
    "if coords_sgn and coords_han:\n",
    "    distance = geodesic(coords_sgn, coords_han).kilometers\n",
    "    print(f\"Khoảng cách giữa Tân Sơn Nhất (SGN) và Nội Bài (HAN) là {distance:.2f} km\")\n",
    "else:\n",
    "    print(\"Không thể tra cứu tọa độ cho một hoặc cả hai sân bay.\")"
   ]
  },
  {
   "cell_type": "code",
   "execution_count": 8,
   "id": "985b8273-7947-4fb8-a8bc-20743961e48b",
   "metadata": {},
   "outputs": [],
   "source": [
    "data_cleaned = data.dropna(subset=['f_price', 'fees'])  # Xóa những dòng thiếu giá vé hoặc phí\n",
    "data_cleaned['f_time_from'] = pd.to_datetime(data_cleaned['f_time_from'], format='%H:%M:%S %d/%m/%Y')\n",
    "data_cleaned['f_time_to'] = pd.to_datetime(data_cleaned['f_time_to'], format='%H:%M:%S %d/%m/%Y')"
   ]
  },
  {
   "cell_type": "code",
   "execution_count": 9,
   "id": "0fca90a3-400b-4d83-93d3-e507116b7e22",
   "metadata": {},
   "outputs": [
    {
     "name": "stdout",
     "output_type": "stream",
     "text": [
      "              id code code_name f_code         f_time_from  \\\n",
      "0  vj16169846100   vj   Vietjet  VJ122 2021-04-01 04:50:00   \n",
      "2  vj16169846231   vj   Vietjet  VJ176 2021-04-01 05:25:00   \n",
      "4  vj16169846302   vj   Vietjet  VJ120 2021-04-01 06:00:00   \n",
      "6  vj16169846383   vj   Vietjet  VJ132 2021-04-01 06:05:00   \n",
      "8  vj16169846454   vj   Vietjet  VJ134 2021-04-01 07:00:00   \n",
      "\n",
      "            f_time_to  f_price    fees  total_price    from  \\\n",
      "0 2021-04-01 07:10:00   199000  650900       849900  TP HCM   \n",
      "2 2021-04-01 07:35:00   199000  650900       849900  TP HCM   \n",
      "4 2021-04-01 08:10:00   199000  650900       849900  TP HCM   \n",
      "6 2021-04-01 08:05:00   199000  650900       849900  TP HCM   \n",
      "8 2021-04-01 09:10:00   409000  661900      1070900  TP HCM   \n",
      "\n",
      "         airport_from      to     airport_to type airport_code_from  \\\n",
      "0  Tân Sơn Nhất (SGN)  Hà Nội  Nội Bài (HAN)  Eco               SGN   \n",
      "2  Tân Sơn Nhất (SGN)  Hà Nội  Nội Bài (HAN)  Eco               SGN   \n",
      "4  Tân Sơn Nhất (SGN)  Hà Nội  Nội Bài (HAN)  Eco               SGN   \n",
      "6  Tân Sơn Nhất (SGN)  Hà Nội  Nội Bài (HAN)  Eco               SGN   \n",
      "8  Tân Sơn Nhất (SGN)  Hà Nội  Nội Bài (HAN)  Eco               SGN   \n",
      "\n",
      "  airport_code_to  \n",
      "0             HAN  \n",
      "2             HAN  \n",
      "4             HAN  \n",
      "6             HAN  \n",
      "8             HAN  \n"
     ]
    }
   ],
   "source": [
    "vietjet_data = data_cleaned[data_cleaned['code_name'] == 'Vietjet']\n",
    "\n",
    "print(vietjet_data.head())"
   ]
  },
  {
   "cell_type": "code",
   "execution_count": 11,
   "id": "0edd197e-47a8-47fc-a42f-560146313a7f",
   "metadata": {},
   "outputs": [
    {
     "name": "stdout",
     "output_type": "stream",
     "text": [
      "  type  ticket_type\n",
      "0  Eco            0\n",
      "2  Eco            0\n",
      "4  Eco            0\n",
      "6  Eco            0\n",
      "8  Eco            0\n"
     ]
    }
   ],
   "source": [
    "# Mã hóa loại vé: Eco -> 0, SkyBoss -> 1\n",
    "vietjet_data.loc[:, 'ticket_type'] = vietjet_data['type'].apply(lambda x: 0 if x == 'Eco' else 1)\n",
    "\n",
    "print(vietjet_data[['type', 'ticket_type']].head())"
   ]
  }
 ],
 "metadata": {
  "kernelspec": {
   "display_name": "Python 3 (ipykernel)",
   "language": "python",
   "name": "python3"
  },
  "language_info": {
   "codemirror_mode": {
    "name": "ipython",
    "version": 3
   },
   "file_extension": ".py",
   "mimetype": "text/x-python",
   "name": "python",
   "nbconvert_exporter": "python",
   "pygments_lexer": "ipython3",
   "version": "3.11.4"
  }
 },
 "nbformat": 4,
 "nbformat_minor": 5
}
