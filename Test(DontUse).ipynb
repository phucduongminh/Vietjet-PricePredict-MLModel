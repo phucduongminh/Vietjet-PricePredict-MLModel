{
 "cells": [
  {
   "cell_type": "code",
   "execution_count": 3,
   "id": "431d6f57-71f0-4b8d-b97c-e02de8351991",
   "metadata": {},
   "outputs": [
    {
     "name": "stdout",
     "output_type": "stream",
     "text": [
      "              id code code_name f_code         f_time_from  \\\n",
      "0  vj16169846100   vj   Vietjet  VJ122 2021-04-01 04:50:00   \n",
      "1  vj16169846231   vj   Vietjet  VJ176 2021-04-01 05:25:00   \n",
      "2  vj16169846302   vj   Vietjet  VJ120 2021-04-01 06:00:00   \n",
      "3  vj16169846383   vj   Vietjet  VJ132 2021-04-01 06:05:00   \n",
      "4  vj16169846454   vj   Vietjet  VJ134 2021-04-01 07:00:00   \n",
      "\n",
      "            f_time_to   f_price      fees  total_price    from  \\\n",
      "0 2021-04-01 07:10:00 -0.358594 -0.470593    -0.368605  TP HCM   \n",
      "1 2021-04-01 07:35:00 -0.358594 -0.470593    -0.368605  TP HCM   \n",
      "2 2021-04-01 08:10:00 -0.358594 -0.470593    -0.368605  TP HCM   \n",
      "3 2021-04-01 08:05:00 -0.358594 -0.470593    -0.368605  TP HCM   \n",
      "4 2021-04-01 09:10:00 -0.004716 -0.261642    -0.026284  TP HCM   \n",
      "\n",
      "         airport_from      to     airport_to type  hour_from  day_of_week  \\\n",
      "0  Tân Sơn Nhất (SGN)  Hà Nội  Nội Bài (HAN)  Eco          4            3   \n",
      "1  Tân Sơn Nhất (SGN)  Hà Nội  Nội Bài (HAN)  Eco          5            3   \n",
      "2  Tân Sơn Nhất (SGN)  Hà Nội  Nội Bài (HAN)  Eco          6            3   \n",
      "3  Tân Sơn Nhất (SGN)  Hà Nội  Nội Bài (HAN)  Eco          6            3   \n",
      "4  Tân Sơn Nhất (SGN)  Hà Nội  Nội Bài (HAN)  Eco          7            3   \n",
      "\n",
      "   month_from  \n",
      "0           4  \n",
      "1           4  \n",
      "2           4  \n",
      "3           4  \n",
      "4           4  \n"
     ]
    }
   ],
   "source": [
    "import pandas as pd\n",
    "\n",
    "# Đọc dữ liệu từ file đã làm sạch\n",
    "vietjet_data = pd.read_excel('vietjet_flight_data.xlsx')\n",
    "\n",
    "print(vietjet_data.head())"
   ]
  },
  {
   "cell_type": "code",
   "execution_count": 4,
   "id": "b3627bcf-6b6f-4573-bbd2-1653d606f9bf",
   "metadata": {},
   "outputs": [],
   "source": [
    "# features\n",
    "X = vietjet_data[['hour_from', 'day_of_week', 'month_from', 'fees', 'total_price']]\n",
    "\n",
    "# target là f_price\n",
    "y = vietjet_data['f_price']"
   ]
  },
  {
   "cell_type": "code",
   "execution_count": 5,
   "id": "ca07298c-3e37-413f-b065-e9300b8f8efb",
   "metadata": {},
   "outputs": [
    {
     "name": "stdout",
     "output_type": "stream",
     "text": [
      "Tập huấn luyện: (5938, 5)\n",
      "Tập kiểm tra: (1485, 5)\n"
     ]
    }
   ],
   "source": [
    "from sklearn.model_selection import train_test_split\n",
    "\n",
    "# Chia dữ liệu\n",
    "X_train, X_test, y_train, y_test = train_test_split(X, y, test_size=0.2, random_state=42)\n",
    "\n",
    "# Kiểm tra kích thước tập huấn luyện và kiểm tra\n",
    "print(f\"Tập huấn luyện: {X_train.shape}\")\n",
    "print(f\"Tập kiểm tra: {X_test.shape}\")"
   ]
  },
  {
   "cell_type": "code",
   "execution_count": 6,
   "id": "80f91a44-8987-4889-87db-102cef1625d8",
   "metadata": {},
   "outputs": [
    {
     "name": "stdout",
     "output_type": "stream",
     "text": [
      "Mean Squared Error (Random Forest): 0.0035347759282744764\n",
      "R-squared (Random Forest): 0.9947738359087342\n"
     ]
    }
   ],
   "source": [
    "from sklearn.ensemble import RandomForestRegressor\n",
    "from sklearn.metrics import mean_squared_error, r2_score\n",
    "\n",
    "# mô hình Random Forest\n",
    "rf_model = RandomForestRegressor(n_estimators=100, random_state=42)\n",
    "\n",
    "# train\n",
    "rf_model.fit(X_train, y_train)\n",
    "\n",
    "# dự đoán\n",
    "y_pred_rf = rf_model.predict(X_test)\n",
    "\n",
    "# đánh giá mô hình\n",
    "mse_rf = mean_squared_error(y_test, y_pred_rf)\n",
    "r2_rf = r2_score(y_test, y_pred_rf)\n",
    "\n",
    "print(f\"Mean Squared Error (Random Forest): {mse_rf}\")\n",
    "print(f\"R-squared (Random Forest): {r2_rf}\")"
   ]
  },
  {
   "cell_type": "code",
   "execution_count": 7,
   "id": "4cccfd3b-d266-45d9-ac6c-0e9f37b1dc4e",
   "metadata": {},
   "outputs": [
    {
     "name": "stdout",
     "output_type": "stream",
     "text": [
      "Mean Squared Error (Linear Regression): 0.0029826765912939765\n",
      "R-squared (Linear Regression): 0.9955901144475404\n"
     ]
    }
   ],
   "source": [
    "from sklearn.linear_model import LinearRegression\n",
    "\n",
    "# mô hình Linear Regression\n",
    "lr_model = LinearRegression()\n",
    "\n",
    "# train\n",
    "lr_model.fit(X_train, y_train)\n",
    "\n",
    "# dự đoán\n",
    "y_pred_lr = lr_model.predict(X_test)\n",
    "\n",
    "# đánh giá\n",
    "mse_lr = mean_squared_error(y_test, y_pred_lr)\n",
    "r2_lr = r2_score(y_test, y_pred_lr)\n",
    "\n",
    "print(f\"Mean Squared Error (Linear Regression): {mse_lr}\")\n",
    "print(f\"R-squared (Linear Regression): {r2_lr}\")"
   ]
  },
  {
   "cell_type": "code",
   "execution_count": 8,
   "id": "51eaf995-6f3c-4706-89d4-193d30285544",
   "metadata": {},
   "outputs": [
    {
     "name": "stdout",
     "output_type": "stream",
     "text": [
      "Dự đoán giá vé với Random Forest: 4.934419221898335\n",
      "Dự đoán giá vé với Linear Regression: 866235.6531194607\n"
     ]
    }
   ],
   "source": [
    "# test\n",
    "new_flight = pd.DataFrame({\n",
    "    'hour_from': [14],  # giờ khởi hành\n",
    "    'day_of_week': [2],  # thứ ba\n",
    "    'month_from': [5],  # tháng 5\n",
    "    'fees': [650900],\n",
    "    'total_price': [849900]\n",
    "})\n",
    "\n",
    "# dự đoán với Random Forest\n",
    "predicted_price_rf = rf_model.predict(new_flight)\n",
    "\n",
    "print(f\"Dự đoán giá vé với Random Forest: {predicted_price_rf[0]}\")\n",
    "\n",
    "# dự đoán với Linear Regression\n",
    "predicted_price_lr = lr_model.predict(new_flight)\n",
    "\n",
    "print(f\"Dự đoán giá vé với Linear Regression: {predicted_price_lr[0]}\")"
   ]
  }
 ],
 "metadata": {
  "kernelspec": {
   "display_name": "Python 3 (ipykernel)",
   "language": "python",
   "name": "python3"
  },
  "language_info": {
   "codemirror_mode": {
    "name": "ipython",
    "version": 3
   },
   "file_extension": ".py",
   "mimetype": "text/x-python",
   "name": "python",
   "nbconvert_exporter": "python",
   "pygments_lexer": "ipython3",
   "version": "3.11.4"
  }
 },
 "nbformat": 4,
 "nbformat_minor": 5
}
